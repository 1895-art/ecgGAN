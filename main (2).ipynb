{
 "cells": [
  {
   "cell_type": "code",
   "execution_count": 1,
   "metadata": {},
   "outputs": [],
   "source": [
    "import pandas as pd\n",
    "import numpy as np\n",
    "import matplotlib.pyplot as plt"
   ]
  },
  {
   "cell_type": "code",
   "execution_count": 2,
   "metadata": {},
   "outputs": [],
   "source": [
    "data = pd.read_csv('data/X_train.csv').iloc[:, :4099]"
   ]
  },
  {
   "cell_type": "code",
   "execution_count": 3,
   "metadata": {},
   "outputs": [
    {
     "name": "stdout",
     "output_type": "stream",
     "text": [
      "(659, 4096)\n"
     ]
    }
   ],
   "source": [
    "data.drop(['Unnamed: 0', 'age', 'gender'], axis=1, inplace=True)\n",
    "print(data.shape)"
   ]
  },
  {
   "cell_type": "code",
   "execution_count": 4,
   "metadata": {},
   "outputs": [
    {
     "data": {
      "text/html": [
       "<div>\n",
       "<style scoped>\n",
       "    .dataframe tbody tr th:only-of-type {\n",
       "        vertical-align: middle;\n",
       "    }\n",
       "\n",
       "    .dataframe tbody tr th {\n",
       "        vertical-align: top;\n",
       "    }\n",
       "\n",
       "    .dataframe thead th {\n",
       "        text-align: right;\n",
       "    }\n",
       "</style>\n",
       "<table border=\"1\" class=\"dataframe\">\n",
       "  <thead>\n",
       "    <tr style=\"text-align: right;\">\n",
       "      <th></th>\n",
       "      <th>i_0</th>\n",
       "      <th>i_1</th>\n",
       "      <th>i_2</th>\n",
       "      <th>i_3</th>\n",
       "      <th>i_4</th>\n",
       "      <th>i_5</th>\n",
       "      <th>i_6</th>\n",
       "      <th>i_7</th>\n",
       "      <th>i_8</th>\n",
       "      <th>i_9</th>\n",
       "      <th>...</th>\n",
       "      <th>i_4086</th>\n",
       "      <th>i_4087</th>\n",
       "      <th>i_4088</th>\n",
       "      <th>i_4089</th>\n",
       "      <th>i_4090</th>\n",
       "      <th>i_4091</th>\n",
       "      <th>i_4092</th>\n",
       "      <th>i_4093</th>\n",
       "      <th>i_4094</th>\n",
       "      <th>i_4095</th>\n",
       "    </tr>\n",
       "  </thead>\n",
       "  <tbody>\n",
       "    <tr>\n",
       "      <th>0</th>\n",
       "      <td>-59.0</td>\n",
       "      <td>-58.0</td>\n",
       "      <td>-58.0</td>\n",
       "      <td>-58.0</td>\n",
       "      <td>-58.0</td>\n",
       "      <td>-58.0</td>\n",
       "      <td>-58.0</td>\n",
       "      <td>-58.0</td>\n",
       "      <td>-58.0</td>\n",
       "      <td>-58.0</td>\n",
       "      <td>...</td>\n",
       "      <td>39.0</td>\n",
       "      <td>4.0</td>\n",
       "      <td>-9.0</td>\n",
       "      <td>-14.0</td>\n",
       "      <td>-19.0</td>\n",
       "      <td>-19.0</td>\n",
       "      <td>24.0</td>\n",
       "      <td>24.0</td>\n",
       "      <td>-14.0</td>\n",
       "      <td>-19.0</td>\n",
       "    </tr>\n",
       "    <tr>\n",
       "      <th>1</th>\n",
       "      <td>-39.0</td>\n",
       "      <td>-38.0</td>\n",
       "      <td>-38.0</td>\n",
       "      <td>-38.0</td>\n",
       "      <td>-38.0</td>\n",
       "      <td>-38.0</td>\n",
       "      <td>-38.0</td>\n",
       "      <td>-38.0</td>\n",
       "      <td>-35.0</td>\n",
       "      <td>-27.0</td>\n",
       "      <td>...</td>\n",
       "      <td>-94.0</td>\n",
       "      <td>-97.0</td>\n",
       "      <td>-98.0</td>\n",
       "      <td>-98.0</td>\n",
       "      <td>-98.0</td>\n",
       "      <td>-98.0</td>\n",
       "      <td>-98.0</td>\n",
       "      <td>-98.0</td>\n",
       "      <td>-98.0</td>\n",
       "      <td>-98.0</td>\n",
       "    </tr>\n",
       "    <tr>\n",
       "      <th>2</th>\n",
       "      <td>0.0</td>\n",
       "      <td>0.0</td>\n",
       "      <td>0.0</td>\n",
       "      <td>0.0</td>\n",
       "      <td>0.0</td>\n",
       "      <td>0.0</td>\n",
       "      <td>0.0</td>\n",
       "      <td>0.0</td>\n",
       "      <td>1.0</td>\n",
       "      <td>5.0</td>\n",
       "      <td>...</td>\n",
       "      <td>-82.0</td>\n",
       "      <td>-79.0</td>\n",
       "      <td>-73.0</td>\n",
       "      <td>-65.0</td>\n",
       "      <td>-57.0</td>\n",
       "      <td>-56.0</td>\n",
       "      <td>-59.0</td>\n",
       "      <td>-63.0</td>\n",
       "      <td>-68.0</td>\n",
       "      <td>-71.0</td>\n",
       "    </tr>\n",
       "    <tr>\n",
       "      <th>3</th>\n",
       "      <td>108.0</td>\n",
       "      <td>106.0</td>\n",
       "      <td>93.0</td>\n",
       "      <td>79.0</td>\n",
       "      <td>86.0</td>\n",
       "      <td>74.0</td>\n",
       "      <td>64.0</td>\n",
       "      <td>51.0</td>\n",
       "      <td>41.0</td>\n",
       "      <td>47.0</td>\n",
       "      <td>...</td>\n",
       "      <td>-109.0</td>\n",
       "      <td>-98.0</td>\n",
       "      <td>-91.0</td>\n",
       "      <td>-83.0</td>\n",
       "      <td>-74.0</td>\n",
       "      <td>-67.0</td>\n",
       "      <td>-56.0</td>\n",
       "      <td>-51.0</td>\n",
       "      <td>-44.0</td>\n",
       "      <td>-36.0</td>\n",
       "    </tr>\n",
       "    <tr>\n",
       "      <th>4</th>\n",
       "      <td>363.0</td>\n",
       "      <td>366.0</td>\n",
       "      <td>366.0</td>\n",
       "      <td>353.0</td>\n",
       "      <td>334.0</td>\n",
       "      <td>314.0</td>\n",
       "      <td>306.0</td>\n",
       "      <td>294.0</td>\n",
       "      <td>303.0</td>\n",
       "      <td>299.0</td>\n",
       "      <td>...</td>\n",
       "      <td>-117.0</td>\n",
       "      <td>-112.0</td>\n",
       "      <td>-114.0</td>\n",
       "      <td>-76.0</td>\n",
       "      <td>-79.0</td>\n",
       "      <td>-82.0</td>\n",
       "      <td>-99.0</td>\n",
       "      <td>-112.0</td>\n",
       "      <td>-101.0</td>\n",
       "      <td>-107.0</td>\n",
       "    </tr>\n",
       "  </tbody>\n",
       "</table>\n",
       "<p>5 rows × 4096 columns</p>\n",
       "</div>"
      ],
      "text/plain": [
       "     i_0    i_1    i_2    i_3    i_4    i_5    i_6    i_7    i_8    i_9  ...  \\\n",
       "0  -59.0  -58.0  -58.0  -58.0  -58.0  -58.0  -58.0  -58.0  -58.0  -58.0  ...   \n",
       "1  -39.0  -38.0  -38.0  -38.0  -38.0  -38.0  -38.0  -38.0  -35.0  -27.0  ...   \n",
       "2    0.0    0.0    0.0    0.0    0.0    0.0    0.0    0.0    1.0    5.0  ...   \n",
       "3  108.0  106.0   93.0   79.0   86.0   74.0   64.0   51.0   41.0   47.0  ...   \n",
       "4  363.0  366.0  366.0  353.0  334.0  314.0  306.0  294.0  303.0  299.0  ...   \n",
       "\n",
       "   i_4086  i_4087  i_4088  i_4089  i_4090  i_4091  i_4092  i_4093  i_4094  \\\n",
       "0    39.0     4.0    -9.0   -14.0   -19.0   -19.0    24.0    24.0   -14.0   \n",
       "1   -94.0   -97.0   -98.0   -98.0   -98.0   -98.0   -98.0   -98.0   -98.0   \n",
       "2   -82.0   -79.0   -73.0   -65.0   -57.0   -56.0   -59.0   -63.0   -68.0   \n",
       "3  -109.0   -98.0   -91.0   -83.0   -74.0   -67.0   -56.0   -51.0   -44.0   \n",
       "4  -117.0  -112.0  -114.0   -76.0   -79.0   -82.0   -99.0  -112.0  -101.0   \n",
       "\n",
       "   i_4095  \n",
       "0   -19.0  \n",
       "1   -98.0  \n",
       "2   -71.0  \n",
       "3   -36.0  \n",
       "4  -107.0  \n",
       "\n",
       "[5 rows x 4096 columns]"
      ]
     },
     "execution_count": 4,
     "metadata": {},
     "output_type": "execute_result"
    }
   ],
   "source": [
    "data.head()"
   ]
  },
  {
   "cell_type": "code",
   "execution_count": 5,
   "metadata": {},
   "outputs": [
    {
     "name": "stderr",
     "output_type": "stream",
     "text": [
      "Using TensorFlow backend.\n"
     ]
    }
   ],
   "source": [
    "from keras.layers import *\n",
    "from keras.models import Sequential, Model\n",
    "from keras.optimizers import Adam"
   ]
  },
  {
   "cell_type": "code",
   "execution_count": 16,
   "metadata": {},
   "outputs": [],
   "source": [
    "import keras.backend as K\n",
    "\n",
    "def Conv1DTranspose(filters, strides, kernel_size=20, activation='relu', data_format='channels_last', padding='same'):\n",
    "    x = Sequential()\n",
    "    x.add(Lambda(lambda x: K.expand_dims(x, axis=2)))\n",
    "    x.add(Conv2DTranspose(filters=filters, kernel_size=(kernel_size, 1), strides=(strides, 1),\n",
    "                          activation=activation, padding=padding))\n",
    "    x.add(Lambda(lambda x: K.squeeze(x, axis=2)))\n",
    "    return x"
   ]
  },
  {
   "cell_type": "code",
   "execution_count": 22,
   "metadata": {},
   "outputs": [],
   "source": [
    "def build_g():\n",
    "    \"\"\"\n",
    "      Input: [None, 100]\n",
    "      Output: [None, 4096, 1]\n",
    "    \"\"\"\n",
    "    generator = Sequential()\n",
    "\n",
    "    # FC and reshape for convolution\n",
    "    # [100] -> [16, 1024]\n",
    "    generator.add(Dense(4096, input_dim=100, activation='relu'))\n",
    "    generator.add(Reshape((16, 256,)))\n",
    "    generator.add(BatchNormalization())\n",
    "\n",
    "    # [16, 256] -> [128, 512]\n",
    "    generator.add(Conv1DTranspose(filters=512, strides=8))\n",
    "    generator.add(BatchNormalization())\n",
    "\n",
    "    # [128, 512] -> [512, 256]\n",
    "    generator.add(Conv1DTranspose(filters=256, strides=4))\n",
    "    generator.add(BatchNormalization())\n",
    "\n",
    "    # [512, 256] -> [1024, 128]\n",
    "    generator.add(Conv1DTranspose(filters=128, strides=2))\n",
    "    generator.add(BatchNormalization())\n",
    "\n",
    "     # [1024, 128] -> [2048, 64]\n",
    "    generator.add(Conv1DTranspose(filters=64, strides=2))\n",
    "    generator.add(BatchNormalization())\n",
    "\n",
    "    # [2048, 64] -> [4096, 1]\n",
    "    generator.add(Conv1DTranspose(filters=1, strides=2, activation='tanh'))\n",
    "    \n",
    "#     generator.summary()\n",
    "    \n",
    "    noise = Input(shape=(100,))\n",
    "    ecg = generator(noise)\n",
    "    \n",
    "    return Model(noise, ecg)"
   ]
  },
  {
   "cell_type": "code",
   "execution_count": 23,
   "metadata": {},
   "outputs": [],
   "source": [
    "def build_d():\n",
    "    \"\"\"\n",
    "      Input: [None, 4096, 1]\n",
    "      Output: [None] (linear output)\n",
    "    \"\"\"\n",
    "    discriminator = Sequential()\n",
    "\n",
    "    # [4096, 1] -> [2048, 64]\n",
    "    discriminator.add(Conv1D(filters=64, kernel_size=(25,), strides=(2,), activation='relu', padding='same'))\n",
    "\n",
    "    # [2048, 64] -> [1024, 128]\n",
    "    discriminator.add(Conv1D(filters=128, kernel_size=(25,), strides=(2,), activation='relu', padding='same'))\n",
    "    discriminator.add(BatchNormalization())\n",
    "\n",
    "    # [1024, 128] -> [512, 256]\n",
    "    discriminator.add(Conv1D(filters=256, kernel_size=(25,), strides=(2,), activation='relu', padding='same'))\n",
    "    discriminator.add(BatchNormalization())\n",
    "\n",
    "    # [512, 256] -> [128, 512]\n",
    "    discriminator.add(Conv1D(filters=512, kernel_size=(25,), strides=(4,), activation='relu', padding='same'))\n",
    "    discriminator.add(BatchNormalization())\n",
    "\n",
    "    # [128, 512] -> [16, 256]\n",
    "    discriminator.add(Conv1D(filters=256, kernel_size=(25,), strides=(8,), activation='relu', padding='same'))\n",
    "    discriminator.add(BatchNormalization())\n",
    "\n",
    "    # Flatten\n",
    "    discriminator.add(Flatten())\n",
    "\n",
    "    # Connect to single logit\n",
    "    discriminator.add(Dense(1, activation='sigmoid'))\n",
    "    \n",
    "    ecg = Input(shape=(4096, 1,))\n",
    "    validity = discriminator(ecg)\n",
    "    \n",
    "    return Model(ecg, validity)"
   ]
  },
  {
   "cell_type": "code",
   "execution_count": 24,
   "metadata": {
    "scrolled": false
   },
   "outputs": [],
   "source": [
    "optimizer = Adam(0.0002, 0.5)\n",
    "\n",
    "dis = build_d()\n",
    "dis.compile(loss='binary_crossentropy', optimizer=optimizer, metrics=['accuracy'])\n",
    "\n",
    "gen = build_g()\n",
    "\n",
    "noise = Input(shape=(100,))\n",
    "ecg = gen(noise)\n",
    "\n",
    "dis.trainable = False\n",
    "validity = dis(ecg)\n",
    "\n",
    "gan = Model(noise, validity)\n",
    "gan.compile(loss='binary_crossentropy', optimizer=optimizer)"
   ]
  },
  {
   "cell_type": "code",
   "execution_count": 25,
   "metadata": {
    "scrolled": true
   },
   "outputs": [
    {
     "name": "stderr",
     "output_type": "stream",
     "text": [
      "  0%|          | 0/200 [00:00<?, ?it/s]C:\\Users\\happy\\Anaconda3\\envs\\tensorflow\\lib\\site-packages\\keras\\engine\\training.py:490: UserWarning: Discrepancy between trainable weights and collected trainable weights, did you set `model.trainable` without calling `model.compile` after ?\n",
      "  'Discrepancy between trainable weights and collected trainable'\n",
      "100%|██████████| 200/200 [01:21<00:00,  3.02it/s]\n"
     ]
    }
   ],
   "source": [
    "from tqdm import tqdm\n",
    "\n",
    "batch_size = 32\n",
    "\n",
    "d_losses, g_losses = [], []\n",
    "\n",
    "valid = np.ones((batch_size, 1))\n",
    "fake = np.zeros((batch_size, 1))\n",
    "\n",
    "for epoch in tqdm(range(200)):\n",
    "    idx = np.random.randint(0, data.shape[0], batch_size)\n",
    "    ecgs = np.reshape(data.iloc[idx].values, (batch_size, data.shape[1], 1))\n",
    "    \n",
    "    noise = np.random.normal(-1, 1, (batch_size, 100))\n",
    "    \n",
    "    gen_ecgs = gen.predict(noise)\n",
    "    \n",
    "    d_loss_real = dis.train_on_batch(ecgs, valid)\n",
    "    d_loss_fake = dis.train_on_batch(gen_ecgs, fake)\n",
    "    d_loss = 0.5 * np.add(d_loss_real, d_loss_fake)\n",
    "    \n",
    "    noise = np.random.normal(-1, 1, (batch_size, 100))\n",
    "    g_loss = gan.train_on_batch(noise, valid)\n",
    "    \n",
    "    d_losses.append(d_loss[0])\n",
    "    g_losses.append(g_loss)"
   ]
  },
  {
   "cell_type": "code",
   "execution_count": 26,
   "metadata": {
    "scrolled": true
   },
   "outputs": [
    {
     "data": {
      "image/png": "[encoded data removed]",
      "text/plain": [
       "<Figure size 432x288 with 1 Axes>"
      ]
     },
     "metadata": {
      "needs_background": "light"
     },
     "output_type": "display_data"
    }
   ],
   "source": [
    "plt.plot(d_losses, 'r')\n",
    "plt.plot(g_losses, 'b')\n",
    "plt.show()"
   ]
  },
  {
   "cell_type": "code",
   "execution_count": 132,
   "metadata": {
    "scrolled": true
   },
   "outputs": [
    {
     "name": "stdout",
     "output_type": "stream",
     "text": [
      "[0.34408057, 0.3342888, 0.44870463, 0.6318503, 0.45458287, 0.36189386, 0.3243562, 0.30328783, 0.32357174, 0.41300014]\n"
     ]
    }
   ],
   "source": [
    "print(d_losses)"
   ]
  },
  {
   "cell_type": "code",
   "execution_count": null,
   "metadata": {},
   "outputs": [],
   "source": []
  }
 ],
 "metadata": {
  "kernelspec": {
   "display_name": "Python 3",
   "language": "python",
   "name": "python3"
  },
  "language_info": {
   "codemirror_mode": {
    "name": "ipython",
    "version": 3
   },
   "file_extension": ".py",
   "mimetype": "text/x-python",
   "name": "python",
   "nbconvert_exporter": "python",
   "pygments_lexer": "ipython3",
   "version": "3.6.8"
  }
 },
 "nbformat": 4,
 "nbformat_minor": 1
}
